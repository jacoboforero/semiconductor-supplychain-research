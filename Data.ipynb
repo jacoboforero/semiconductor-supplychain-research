{
 "cells": [
  {
   "cell_type": "markdown",
   "id": "29378b46",
   "metadata": {},
   "source": [
    "# Core code\n",
    "\n",
    "This notebook imports the data, cleans it, and forms the neo4j Cypher file which can be used to generate the graph database."
   ]
  },
  {
   "cell_type": "markdown",
   "id": "152469c3",
   "metadata": {},
   "source": [
    "## Loading main company list and forming a list of company objects "
   ]
  },
  {
   "cell_type": "code",
   "execution_count": null,
   "id": "ce2c77bc-9d3b-4e55-b3c4-0bf89b836ae6",
   "metadata": {},
   "outputs": [],
   "source": [
    "import pandas as pd\n",
    "\n",
    "# Load the dataset\n",
    "# Note : in future iterations of this project, the company_list.csv file will be replaced with a live API call\n",
    "file_path = 'Companies/company_list.csv'\n",
    "data = pd.read_csv(file_path)\n",
    "\n",
    "# Inspect column names to adjust the script dynamically\n",
    "print(\"Columns in the dataset:\", data.columns)\n",
    "\n",
    "# Define a Company class to represent each company's data\n",
    "class Company:\n",
    "    def __init__(self, name, market_cap, other_data):\n",
    "        self.name = name\n",
    "        self.market_cap = market_cap\n",
    "        self.other_data = other_data\n",
    "        self.lei = None  # Placeholder for the LEI, initially set to None\n",
    "\n",
    "    def __repr__(self):\n",
    "        return f\"Company(name={self.name}, market_cap={self.market_cap}, lei={self.lei})\"\n",
    "\n",
    "# Adjust column names based on actual dataset headers\n",
    "name_column = 'Name'  # Updated based on dataset\n",
    "market_cap_column = 'marketcap'  # Updated based on dataset\n",
    "\n",
    "# Convert the DataFrame into a list of Company objects\n",
    "companies = []\n",
    "\n",
    "for _, row in data.iterrows():\n",
    "    company = Company(\n",
    "        name=row[name_column],\n",
    "        market_cap=row[market_cap_column],\n",
    "        other_data=row.drop([name_column, market_cap_column]).to_dict()\n",
    "    )\n",
    "    companies.append(company)\n",
    "\n",
    "\n",
    "# The `companies` list now holds all the company objects, and each object includes a placeholder for LEI\n"
   ]
  },
  {
   "cell_type": "markdown",
   "id": "237cd699",
   "metadata": {},
   "source": [
    "## Running fuzzy matching on the GLEIF LEI public API to attempt to find matching LEIs for our companies. "
   ]
  },
  {
   "cell_type": "code",
   "execution_count": null,
   "id": "902d4300",
   "metadata": {},
   "outputs": [],
   "source": [
    "import requests\n",
    "from fuzzywuzzy import fuzz\n",
    "\n",
    "\n",
    "# # Function to fetch LEI based on company name\n",
    "def fetch_lei(company_name):\n",
    "    base_url = \"https://api.gleif.org/api/v1/lei-records\"\n",
    "    params = {\n",
    "        \"filter[entity.legalName]\": company_name\n",
    "    }\n",
    "    response = requests.get(base_url, params=params)\n",
    "    if response.status_code == 200:\n",
    "        data = response.json()\n",
    "        if data['data']:\n",
    "            # Perform fuzzy matching to find the best candidate\n",
    "            best_match = None\n",
    "            best_score = 0\n",
    "            for record in data['data']:\n",
    "                legal_name = record['attributes']['entity']['legalName']['name']\n",
    "                score = fuzz.ratio(company_name.lower(), legal_name.lower())\n",
    "                if score > best_score:\n",
    "                    best_score = score\n",
    "                    best_match = record\n",
    "\n",
    "            if best_match and best_score > 75:  # Threshold for a good match\n",
    "                # Check to avoid holding companies\n",
    "                if \"Holding\" not in best_match['attributes']['entity']['legalName']:\n",
    "                    return best_match['id']  # LEI is in the 'id' field\n",
    "            print(f\"No precise LEI match for {company_name}, best score: {best_score}\")\n",
    "        else:\n",
    "            print(f\"No LEI found for {company_name}\")\n",
    "    else:\n",
    "        print(f\"Error fetching LEI for {company_name}: {response.status_code}\")\n",
    "    return None\n",
    "\n",
    "# Update each company with its LEI\n",
    "def update_leis(companies):\n",
    "    for company in companies:\n",
    "        company.lei = fetch_lei(company.name)\n",
    "        print(f\"Updated {company.name} with LEI: {company.lei}\")\n",
    "\n",
    "# Run the LEI update\n",
    "update_leis(companies)\n",
    "\n",
    "\n",
    "# The `companies` list now holds all the company objects, and each object includes a placeholder for LEI"
   ]
  },
  {
   "cell_type": "markdown",
   "id": "ac149554",
   "metadata": {},
   "source": [
    "## Printing the companies for which we have successfully found and matches the LEI"
   ]
  },
  {
   "cell_type": "code",
   "execution_count": null,
   "id": "f4481f0d",
   "metadata": {},
   "outputs": [],
   "source": [
    "# Filter and print companies that have a successful LEI match\n",
    "successful_companies = [company for company in companies if company.lei is not None]\n",
    "\n",
    "for sc in successful_companies:\n",
    "    print(sc)\n",
    "\n",
    "print(\"Total successful matches:\", len(successful_companies))"
   ]
  },
  {
   "cell_type": "markdown",
   "id": "812170a9",
   "metadata": {},
   "source": [
    "## Based on the list of companies, generating Cypher output to main.cypher. The Cypher code will create a node for each company and add the LEI if it is known. "
   ]
  },
  {
   "cell_type": "code",
   "execution_count": 15,
   "id": "a13a3bff",
   "metadata": {},
   "outputs": [
    {
     "name": "stdout",
     "output_type": "stream",
     "text": [
      "Cypher script generated and saved to main.cypher\n"
     ]
    }
   ],
   "source": [
    "import os\n",
    "\n",
    "# File path for the Cypher script\n",
    "cypher_file = 'main.cypher'\n",
    "\n",
    "# Delete the file if it already exists\n",
    "if os.path.exists(cypher_file):\n",
    "    os.remove(cypher_file)\n",
    "\n",
    "# Open the file in write mode\n",
    "with open(cypher_file, 'w') as file:\n",
    "    # Write the header\n",
    "    file.write(\"// Cypher script to create Company nodes\\n\")\n",
    "\n",
    "    # Iterate through the companies and generate Cypher commands\n",
    "    for company in companies:\n",
    "        # Base CREATE command\n",
    "        create_command = f\"CREATE (:Company {{name: '{company.name}'\"\n",
    "        \n",
    "        # Add LEI if available\n",
    "        if company.lei:\n",
    "            create_command += f\", lei: '{company.lei}'\"\n",
    "        \n",
    "        # Close the node declaration\n",
    "        create_command += \"});\\n\"\n",
    "\n",
    "        # Write the command to the file\n",
    "        file.write(create_command)\n",
    "\n",
    "    # Add a query to display the whole graph\n",
    "    file.write(\"\\n// Query to display the whole graph\\n\")\n",
    "    file.write(\"MATCH (n) RETURN n;\\n\")\n",
    "\n",
    "print(f\"Cypher script generated and saved to {cypher_file}\")\n"
   ]
  }
 ],
 "metadata": {
  "kernelspec": {
   "display_name": "venv",
   "language": "python",
   "name": "python3"
  },
  "language_info": {
   "codemirror_mode": {
    "name": "ipython",
    "version": 3
   },
   "file_extension": ".py",
   "mimetype": "text/x-python",
   "name": "python",
   "nbconvert_exporter": "python",
   "pygments_lexer": "ipython3",
   "version": "3.12.1"
  }
 },
 "nbformat": 4,
 "nbformat_minor": 5
}
