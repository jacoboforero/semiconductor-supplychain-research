{
 "cells": [
  {
   "cell_type": "code",
   "execution_count": null,
   "id": "ce2c77bc-9d3b-4e55-b3c4-0bf89b836ae6",
   "metadata": {},
   "outputs": [],
   "source": [
    "import pandas as pd\n",
    "\n",
    "# Load the dataset\n",
    "file_path = '/Companies/companies_list.csv'\n",
    "data = pd.read_csv(file_path)\n",
    "\n",
    "# Define a Company class to represent each company's data\n",
    "class Company:\n",
    "    def __init__(self, name, market_cap, other_data):\n",
    "        self.name = name\n",
    "        self.market_cap = market_cap\n",
    "        self.other_data = other_data\n",
    "        self.lei = None  # Placeholder for the LEI, initially set to None\n",
    "\n",
    "    def __repr__(self):\n",
    "        return f\"Company(name={self.name}, market_cap={self.market_cap}, lei={self.lei})\"\n",
    "\n",
    "# Convert the DataFrame into a list of Company objects\n",
    "companies = []\n",
    "\n",
    "for _, row in data.iterrows():\n",
    "    company = Company(\n",
    "        name=row['Company Name'],\n",
    "        market_cap=row['Market Cap'],\n",
    "        other_data=row.drop(['Company Name', 'Market Cap']).to_dict()\n",
    "    )\n",
    "    companies.append(company)\n",
    "\n",
    "# Example output: Print the first few company objects\n",
    "for company in companies[:5]:\n",
    "    print(company)\n",
    "\n",
    "# The `companies` list now holds all the company objects, and each object includes a placeholder for LEI\n"
   ]
  }
 ],
 "metadata": {
  "kernelspec": {
   "display_name": "Python 3 (ipykernel)",
   "language": "python",
   "name": "python3"
  },
  "language_info": {
   "codemirror_mode": {
    "name": "ipython",
    "version": 3
   },
   "file_extension": ".py",
   "mimetype": "text/x-python",
   "name": "python",
   "nbconvert_exporter": "python",
   "pygments_lexer": "ipython3",
   "version": "3.12.1"
  }
 },
 "nbformat": 4,
 "nbformat_minor": 5
}
